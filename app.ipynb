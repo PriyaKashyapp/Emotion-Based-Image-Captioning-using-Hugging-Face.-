{
 "cells": [
  {
   "cell_type": "code",
   "execution_count": null,
   "metadata": {
    "id": "uZ8MNIrDr8-j"
   },
   "outputs": [],
   "source": [
    "from flask import Flask, request, jsonify\n",
    "from model import generate_emotional_caption\n",
    "import os\n",
    "\n",
    "app = Flask(__name__)\n",
    "\n",
    "@app.route('/upload', methods=['POST'])\n",
    "def upload_image():\n",
    "    try:\n",
    "        file = request.files['image']\n",
    "        if not os.path.exists('uploads'):\n",
    "            os.makedirs('uploads')\n",
    "        file_path = os.path.join('uploads', file.filename)\n",
    "        file.save(file_path)\n",
    "        caption = generate_emotional_caption(file_path)\n",
    "        return jsonify({'caption': caption})\n",
    "    except Exception as e:\n",
    "        return jsonify({'error': str(e)}), 500\n",
    "\n",
    "if __name__ == '__main__':\n",
    "    app.run(debug=5000)\n"
   ]
  },
  {
   "cell_type": "code",
   "execution_count": null,
   "metadata": {},
   "outputs": [],
   "source": []
  }
 ],
 "metadata": {
  "colab": {
   "provenance": []
  },
  "kernelspec": {
   "display_name": "Python 3 (ipykernel)",
   "language": "python",
   "name": "python3"
  },
  "language_info": {
   "codemirror_mode": {
    "name": "ipython",
    "version": 3
   },
   "file_extension": ".py",
   "mimetype": "text/x-python",
   "name": "python",
   "nbconvert_exporter": "python",
   "pygments_lexer": "ipython3",
   "version": "3.11.7"
  }
 },
 "nbformat": 4,
 "nbformat_minor": 4
}
