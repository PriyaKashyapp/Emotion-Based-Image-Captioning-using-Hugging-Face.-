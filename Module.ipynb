{
 "cells": [
  {
   "cell_type": "code",
   "execution_count": null,
   "id": "ff76dd00-0e95-4e95-92ad-ecbe1772a10a",
   "metadata": {},
   "outputs": [],
   "source": [
    "from flask import Flask, request, jsonify\n",
    "from transformers import BlipProcessor, BlipForConditionalGeneration, AutoFeatureExtractor, AutoModelForImageClassification\n",
    "from PIL import Image\n",
    "import torch\n"
   ]
  },
  {
   "cell_type": "code",
   "execution_count": null,
   "id": "5666a57a-8c4f-4915-8799-7cb794360686",
   "metadata": {},
   "outputs": [],
   "source": [
    "from transformers import BlipProcessor, BlipForConditionalGeneration\n",
    "from diffusers import StableDiffusionPipeline\n",
    "\n",
    "from transformers import AutoFeatureExtractor, AutoModelForImageClassification\n",
    "from PIL import Image\n",
    "import torch"
   ]
  },
  {
   "cell_type": "code",
   "execution_count": null,
   "id": "915bc3cc-ab87-4b5b-90a4-1fece2049229",
   "metadata": {},
   "outputs": [],
   "source": [
    "# Load the image captioning model ( load model directly )\n",
    "caption_processor = BlipProcessor.from_pretrained(\"Salesforce/blip-image-captioning-base\")\n",
    "caption_model = BlipForConditionalGeneration.from_pretrained(\"Salesforce/blip-image-captioning-base\")"
   ]
  },
  {
   "cell_type": "code",
   "execution_count": null,
   "id": "a5a26f4c-2e8d-4601-95ae-e6a01bdee610",
   "metadata": {},
   "outputs": [],
   "source": [
    "# Load the emotion detection model\n",
    "emotion_extractor = AutoFeatureExtractor.from_pretrained(\"microsoft/resnet-50\")\n",
    "emotion_model = AutoModelForImageClassification.from_pretrained(\"microsoft/resnet-50\")"
   ]
  },
  {
   "cell_type": "code",
   "execution_count": null,
   "id": "489ff1e6-f55d-4815-b678-7028f73ad102",
   "metadata": {},
   "outputs": [],
   "source": [
    "# Function to generate an emotional caption for an image\n",
    "def generate_emotional_caption(image_path):\n",
    "    try:\n",
    "        image = Image.open(image_path)\n",
    "\n",
    "        # Generate the base caption\n",
    "        inputs = caption_processor(images=image, return_tensors=\"pt\")\n",
    "        outputs = caption_model.generate(**inputs)\n",
    "        base_caption = caption_processor.decode(outputs[0], skip_special_tokens=True)\n",
    "\n",
    "        # Detect emotion\n",
    "        inputs = emotion_extractor(images=image, return_tensors=\"pt\")\n",
    "        with torch.no_grad():\n",
    "            logits = emotion_model(**inputs).logits\n",
    "        predicted_class = logits.argmax(-1).item()\n",
    "        emotion = emotion_model.config.id2label[predicted_class]\n",
    "\n",
    "    \n",
    "\n",
    "        # Enhance the caption with emotion\n",
    "        emotional_caption = f\"{base_caption}. The scene evokes a sense of {emotion.lower()}.\"\n",
    "        return emotional_caption\n",
    "    except Exception as e:\n",
    "        return f\"Error generating caption: {str(e)}\""
   ]
  },
  {
   "cell_type": "code",
   "execution_count": null,
   "id": "8f75f933-765b-4611-ba0c-3b792beaf08c",
   "metadata": {},
   "outputs": [],
   "source": [
    "import json\n",
    "from flask import Flask, jsonify, request\n",
    "from flask_cors import CORS"
   ]
  },
  {
   "cell_type": "code",
   "execution_count": null,
   "id": "310a553c-8a4e-4cb6-8a14-cbf1bf5ad094",
   "metadata": {},
   "outputs": [],
   "source": [
    "\n",
    "\n",
    "app = Flask(__name__)\n",
    "CORS(app)\n",
    "@app.route('/upload', methods=['POST'])\n",
    "def uploadimg():\n",
    "    file = request.files['image']\n",
    "    file_path = os.path.join('uploads', file.filename)\n",
    "    os.makedirs(os.path.dirname(file_path), exist_ok=True)\n",
    "    file.save(file_path)\n",
    "    caption = generate_emotional_caption(file_path)\n",
    "    return jsonify({'caption': caption})\n",
    "\n",
    "if __name__ == '__main__':\n",
    "    app.run(port=5000)"
   ]
  },
  {
   "cell_type": "code",
   "execution_count": null,
   "id": "a903f92a-a806-44ff-805c-da4dee7bf878",
   "metadata": {},
   "outputs": [],
   "source": [
    "from transformers import ViTFeatureExtractor, ViTForImageClassification\n",
    "from PIL import Image\n",
    "import torch"
   ]
  },
  {
   "cell_type": "code",
   "execution_count": null,
   "id": "71a5f571-94da-43d7-9103-d327e2f98256",
   "metadata": {},
   "outputs": [],
   "source": [
    "# Example usage\n",
    "image_path = \"Image.jpg\"\n",
    "print(generate_emotional_caption(image_path))"
   ]
  },
  {
   "cell_type": "code",
   "execution_count": null,
   "id": "2801bd99-5d66-42ed-ba8f-928fa9ce3c17",
   "metadata": {},
   "outputs": [],
   "source": []
  }
 ],
 "metadata": {
  "kernelspec": {
   "display_name": "Python 3 (ipykernel)",
   "language": "python",
   "name": "python3"
  },
  "language_info": {
   "codemirror_mode": {
    "name": "ipython",
    "version": 3
   },
   "file_extension": ".py",
   "mimetype": "text/x-python",
   "name": "python",
   "nbconvert_exporter": "python",
   "pygments_lexer": "ipython3",
   "version": "3.11.7"
  }
 },
 "nbformat": 4,
 "nbformat_minor": 5
}
