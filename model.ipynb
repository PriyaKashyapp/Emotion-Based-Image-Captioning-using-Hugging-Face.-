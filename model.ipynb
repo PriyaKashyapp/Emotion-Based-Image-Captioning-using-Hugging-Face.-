{
 "cells": [
  {
   "cell_type": "markdown",
   "metadata": {
    "id": "S0UcnXZ7Nu2X"
   },
   "source": [
    "# Emotion-Based Image Captioning using  Open Source Models from HuggingFace and Langchain."
   ]
  },
  {
   "cell_type": "code",
   "execution_count": 1,
   "metadata": {
    "colab": {
     "base_uri": "https://localhost:8080/",
     "height": 378
    },
    "id": "cd40hg1PxidO",
    "outputId": "85a2b458-b32a-489b-c90f-17dc93d00e90"
   },
   "outputs": [],
   "source": [
    "from transformers import BlipProcessor, BlipForConditionalGeneration\n",
    "from diffusers import StableDiffusionPipeline\n",
    "\n",
    "from transformers import AutoFeatureExtractor, AutoModelForImageClassification\n",
    "from PIL import Image\n",
    "import torch"
   ]
  },
  {
   "cell_type": "code",
   "execution_count": 2,
   "metadata": {
    "id": "vzOnL_1ZxmTk"
   },
   "outputs": [],
   "source": [
    "# Load the image captioning model ( load model directly from Hugging Face)\n",
    "caption_processor = BlipProcessor.from_pretrained(\"Salesforce/blip-image-captioning-base\")\n",
    "caption_model = BlipForConditionalGeneration.from_pretrained(\"Salesforce/blip-image-captioning-base\")"
   ]
  },
  {
   "cell_type": "code",
   "execution_count": 3,
   "metadata": {
    "colab": {
     "base_uri": "https://localhost:8080/"
    },
    "id": "ZcPZ2Pwvys76",
    "outputId": "053b7f56-b4a2-4c22-f016-76d09d82062c"
   },
   "outputs": [
    {
     "name": "stderr",
     "output_type": "stream",
     "text": [
      "/opt/anaconda3/lib/python3.11/site-packages/transformers/models/convnext/feature_extraction_convnext.py:28: FutureWarning: The class ConvNextFeatureExtractor is deprecated and will be removed in version 5 of Transformers. Please use ConvNextImageProcessor instead.\n",
      "  warnings.warn(\n"
     ]
    }
   ],
   "source": [
    "# Load the emotion detection model (pre-trained emotion detection model from Hugging Face)\n",
    "emotion_extractor = AutoFeatureExtractor.from_pretrained(\"microsoft/resnet-50\")\n",
    "emotion_model = AutoModelForImageClassification.from_pretrained(\"microsoft/resnet-50\")\n"
   ]
  },
  {
   "cell_type": "code",
   "execution_count": 4,
   "metadata": {
    "id": "H6aI3nYOPRM6"
   },
   "outputs": [],
   "source": [
    "# Function to generate an emotional caption for an image\n",
    "\n",
    "def generate_emotional_caption(image_path):\n",
    "    image = Image.open(image_path)\n",
    "\n",
    "    # Generate the base caption\n",
    "    inputs = caption_processor(images=image, return_tensors=\"pt\")\n",
    "    outputs = caption_model.generate(**inputs)\n",
    "    base_caption = caption_processor.decode(outputs[0], skip_special_tokens=True)\n",
    "\n",
    "    # Detect emotion\n",
    "    inputs = emotion_extractor(images=image, return_tensors=\"pt\")\n",
    "    with torch.no_grad():\n",
    "        logits = emotion_model(**inputs).logits\n",
    "    predicted_class = logits.argmax(-1).item()\n",
    "    emotion = emotion_model.config.id2label[predicted_class]\n",
    "\n",
    "    # Enhance the caption with emotion\n",
    "    emotional_caption = f\"{base_caption}. The scene evokes a sense of {emotion.lower()}.\"\n",
    "\n",
    "    return emotional_caption\n",
    "\n"
   ]
  },
  {
   "cell_type": "code",
   "execution_count": 6,
   "metadata": {
    "id": "sLL-u_c13PJr"
   },
   "outputs": [],
   "source": [
    "from transformers import ViTFeatureExtractor, ViTForImageClassification\n",
    "from PIL import Image\n",
    "import torch"
   ]
  },
  {
   "cell_type": "code",
   "execution_count": 7,
   "metadata": {
    "colab": {
     "base_uri": "https://localhost:8080/"
    },
    "id": "KbzuCvu82s46",
    "outputId": "eba150bf-52ef-486d-b275-d20293eb26b5"
   },
   "outputs": [
    {
     "name": "stderr",
     "output_type": "stream",
     "text": [
      "/opt/anaconda3/lib/python3.11/site-packages/transformers/generation/utils.py:1168: UserWarning: Using the model-agnostic default `max_length` (=20) to control the generation length. We recommend setting `max_new_tokens` to control the maximum length of the generation.\n",
      "  warnings.warn(\n"
     ]
    },
    {
     "name": "stdout",
     "output_type": "stream",
     "text": [
      "a woman with long brown hair and red lipstick. The scene evokes a sense of lipstick, lip rouge.\n"
     ]
    }
   ],
   "source": [
    "# Example usage\n",
    "image_path = \"Image.jpg\"\n",
    "print(generate_emotional_caption(image_path))"
   ]
  },
  {
   "cell_type": "code",
   "execution_count": null,
   "metadata": {},
   "outputs": [],
   "source": []
  }
 ],
 "metadata": {
  "colab": {
   "provenance": []
  },
  "kernelspec": {
   "display_name": "Python 3 (ipykernel)",
   "language": "python",
   "name": "python3"
  },
  "language_info": {
   "codemirror_mode": {
    "name": "ipython",
    "version": 3
   },
   "file_extension": ".py",
   "mimetype": "text/x-python",
   "name": "python",
   "nbconvert_exporter": "python",
   "pygments_lexer": "ipython3",
   "version": "3.11.7"
  }
 },
 "nbformat": 4,
 "nbformat_minor": 4
}
